{
 "cells": [
  {
   "cell_type": "markdown",
   "metadata": {},
   "source": [
    "## Additive Secret Sharing\n",
    "\n",
    "https://www.geeksforgeeks.org/additive-secret-sharing-and-share-proactivization-using-python/\n",
    "\n",
    "A Secret Sharing Scheme is a Cryptographic Scheme that involves the breaking up of a secret value into multiple \n",
    "fragments/shares in a manner that prevents a single shareholder from having complete knowledge of the original \n",
    "secret. Thus, the secret is divided into multiple shares and distributed among multiple participants. Therefore, the control over the secret value is distributed and not held by a single party. \n",
    "The simplest example of a Secret Sharing Scheme is Additive Secret Sharing which involves breaking a numeric \n",
    "secret into fragments that add up to the original secret. Once divided into shares, each share is distributed to different participants. None of the individual participants have enough information to reconstruct the secret.\n",
    "To reconstruct the secret, all participant must pool their shares together to reveal the original secret value.\n",
    "\n",
    "Example\n",
    "\n",
    "Assume that the following conditions exist: \n",
    "\n",
    "- The secret we want to divide is given by the value s = 12345\n",
    "- The number of participants in the system are n = 3. Thus, we need to obtain three shares, one for each party\n",
    "- When all parties pool and combine their shares, the secret is revealed\n",
    "- One arbitrary division of the secret might be: 12345 = 3512 + 2100 + 6733\n",
    "- Thus, the first party is given a share with value 3512, the second party is given 2100 and the third party gets 6733. Clearly, unless all three parties pool their shares, the secret cannot be revealed. Such a scheme is called an n-out-of-n sharing scheme since all shares are required for secret reconstruction.\n",
    "\n",
    "A Brief Recap on Fields, Groups, Polynomials, Modulo etc\n",
    "\n",
    "- Recall that finite fields are fields with a finite number of elements (also known as Galois fields)\n",
    "- A field is more than a set of elements - it is a set of at least 2 elements with 2 operations (addition and multiplication), along with a set of properties that govern these operations.\n",
    "- The number of elements of a finite field is called its order or, sometimes, its size.\n",
    "- A prime field is the set of mod-p remainders where p is a given prime number\n",
    "- A prime polynomial is a polynomial whose co-efficients lie in a prime field\n",
    "- A group is similar to a field except it has a single operation e.g. addition or multiplication\n",
    "- The non-zero elements of a finite field form a multiplicative group. This group is cyclic, so all non-zero elements can be expressed as powers of a single element called a primitive element of the field.\n",
    "- mod(a,b) will give the remainder of a/b. You can think of this as subtracting b from a enough times to get in the range [0, b-1]. If b>0, then the remainder will be in the range [0, b-1] meaning positive or zero. If b<0 the remainder will be in the range [b+1, 0] meaning negative or zero. Crucially, if a is negative and b is positive, you ADD b to a enough times to reach zero or a positive number. I.e. in the range [0, b-1]. If a is negative and b is negative, you subtract b from a enough times to reach a number in the range [b+1, 0]. e.g. 7 mod 3 = mod (7,3) = 1 whilst -7 mod 3 = mod(-7, 3) = 2 and -8 mod 2 = mod(-8, 2) = 0\n",
    "\n",
    "Additive Sharing over a Finite Field\n",
    "\n",
    "- Conventionally, the secret values and share values are bound to a finite field where all computations take place. \n",
    "- All but the last shares, in such a scheme, are picked randomly, ensuring they belong to the chosen finite field.\n",
    "- Assume (n-1) out of the total n shares are S(1), S(2), …, S(n-1). \n",
    "- The final share is computed as S(n) = V – (S(1) + S(2) + … + S(n-1)) where V is the value of the original secret.\n",
    "- To recap, we pick (n-1) random shares and compute the final share. "
   ]
  },
  {
   "cell_type": "code",
   "execution_count": 1,
   "metadata": {},
   "outputs": [
    {
     "name": "stdout",
     "output_type": "stream",
     "text": [
      "Shares are: [21405, 40435, 76619, 57832, 4943]\n",
      "Reconstructed secret: 1234\n"
     ]
    }
   ],
   "source": [
    "import random\n",
    " \n",
    "def getAdditiveShares(secret, N, fieldSize):\n",
    "    '''Generate N additive shares from 'secret' in finite field of size 'fieldSize'.'''\n",
    " \n",
    "    # Generate n-1 shares randomly\n",
    "    shares = [random.randrange(fieldSize) for i in range(N-1)]\n",
    " \n",
    "    # Append final share by subtracting all shares from secret\n",
    "    # Modulo is done with fieldSize to ensure share is within finite field\n",
    "    shares.append((secret - sum(shares)) % fieldSize )\n",
    "    return shares\n",
    " \n",
    "def reconstructSecret(shares, fieldSize):\n",
    "    '''Regenerate secret from additive shares'''\n",
    "    #1234 % 10000 = 1234\n",
    "    return sum(shares) % fieldSize\n",
    " \n",
    "if __name__ == \"__main__\":\n",
    "    # Generating the shares, 10**5 = 10000\n",
    "    shares = getAdditiveShares(1234, 5, 10**5)\n",
    "    print('Shares are:', shares)\n",
    "     \n",
    "    # Reconstructing the secret from shares\n",
    "    print('Reconstructed secret:', reconstructSecret(shares, 10**5))"
   ]
  },
  {
   "cell_type": "markdown",
   "metadata": {},
   "source": [
    "## Proactivization of Additive Shares\n",
    "\n",
    "Proactivization refers to the refreshing of the shares after fixed intervals to reduce the possibility of an attacker accessing the secret. It is assumed that an attacker can gain access to the shares held by any participant in some reasonable time. However, the compromise of a single share does not reveal the entire secret. As such, the attacker will have to compromise all the generated shares to gain access to the actual secret. This is where Proactivization comes into play. Using Proactivization, all shares are arbitrarily refreshed after a fixed interval such that the attacker may never have access to all of the most current shares. Thus, if the shares are refreshed at a rate such that the adversary only has access to just a subset of all shares at any given point, the scheme is protected from compromise.\n",
    "The goal with Proactivization is to maintain the same key value yet to change its share representation. \n",
    "\n",
    "A new set of additive shares are generated after each lifecycle as follows: \n",
    " \n",
    "\n",
    "Each additive share S(i) is subdivided into sub-fragments d(i, 1), d(i, 2), …, d(i, n) such the summation of all d(i, j) yields S(i) and n is the number of participants in the system \n",
    " \n",
    "The sub-fragment d(i, j) is distributed by the owning party, “i“, to the party “j“. In this manner, all participants exchange their subfragments.\n",
    "To compute its refreshed share, party i adds the sub-fragments it received from all other participants as follows: {d(i)}^{new}={\\sum_{j=1}^{n?}}{d(j, i)}\n",
    "On closer observation, we see that each shareholder essentially performs additive sharing on their own shares and distributed the generated sub-shares among the participants. Subsequently, each participant adds up the received sub-shares. In this manner, the original secret is preserved while refreshing the shares held by the participants. \n"
   ]
  },
  {
   "cell_type": "code",
   "execution_count": 2,
   "metadata": {},
   "outputs": [
    {
     "name": "stdout",
     "output_type": "stream",
     "text": [
      "Shares are: [5360, 3322, 37287, 25503, 29762]\n",
      "Refreshed Shares are: [253891, 251872, 368538, 194677, 232256]\n",
      "Secret: 1234\n"
     ]
    }
   ],
   "source": [
    "# Additive Sharing with facility to Refresh shares via Proactivization\n",
    "import random\n",
    " \n",
    "def getAdditiveShares(secret, N, fieldSize):\n",
    "    '''Generate N additive shares from 'secret' in finite field of size 'fieldSize'.'''\n",
    " \n",
    "    # Generate n-1 shares randomly\n",
    "    shares = [random.randrange(fieldSize) for i in range(N-1)]\n",
    "    # Append final share by subtracting all shares from secret\n",
    "    shares.append((secret - sum(shares)) % fieldSize )\n",
    "    return shares\n",
    " \n",
    "def reconstructSecret(shares, fieldSize):\n",
    "    '''Regenerate secret from additive shares'''\n",
    "    return sum(shares) % fieldSize\n",
    " \n",
    "def proactivizeShares(shares):\n",
    "    '''Refreshed shares by proactivization'''\n",
    "     \n",
    "    n = len(shares)\n",
    "    refreshedShares = [0]*n\n",
    " \n",
    "    for s in shares:\n",
    " \n",
    "        # Divide each share into sub-fragments using additive sharing\n",
    "        subShares = getAdditiveShares(s, n, 10**5)\n",
    " \n",
    "        # Add subfragments of corresponding parties\n",
    "        for p, sub in enumerate(subShares):\n",
    "            refreshedShares[p] += sub\n",
    "             \n",
    "    return refreshedShares\n",
    " \n",
    "if __name__ == \"__main__\":\n",
    "    # Generating the shares\n",
    "    shares = getAdditiveShares(1234, 5, 10**5)\n",
    "    print('Shares are:', shares)\n",
    " \n",
    "    # Running Proactivization\n",
    "    newShares = proactivizeShares(shares)\n",
    "    print('Refreshed Shares are:', newShares)\n",
    "     \n",
    "    # Reconstructing secret from refreshed shares\n",
    "    print('Secret:', reconstructSecret(newShares, 10**5))"
   ]
  },
  {
   "cell_type": "code",
   "execution_count": null,
   "metadata": {},
   "outputs": [],
   "source": []
  }
 ],
 "metadata": {
  "kernelspec": {
   "display_name": "Python 3",
   "language": "python",
   "name": "python3"
  },
  "language_info": {
   "codemirror_mode": {
    "name": "ipython",
    "version": 3
   },
   "file_extension": ".py",
   "mimetype": "text/x-python",
   "name": "python",
   "nbconvert_exporter": "python",
   "pygments_lexer": "ipython3",
   "version": "3.8.3"
  }
 },
 "nbformat": 4,
 "nbformat_minor": 4
}
