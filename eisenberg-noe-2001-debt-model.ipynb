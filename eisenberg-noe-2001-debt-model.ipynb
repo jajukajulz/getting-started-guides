{
 "cells": [
  {
   "cell_type": "code",
   "execution_count": null,
   "metadata": {},
   "outputs": [],
   "source": [
    "# Implementation of the Eisenberg and Noe 2001 Debt Model in Python\n",
    "# Julian Kanjere, knjjul001@myuct.ac.za, September 2021\n",
    "######### IMPORTS ######### \n",
    "\n",
    "import numpy as np\n",
    "\n",
    "######### /IMPORTS ######### \n",
    "\n",
    "######### MODEL SETUP ######### \n",
    "\n",
    "NETWORK_TYPE = 'STAR' #'CIRCULANT'\n",
    "NUM_AGENTS = 5 # i.e. n\n",
    "\n",
    "# n x n liabilities matrix where Lij is debt that agent i owes agent j\n",
    "LIABILITY_MATRIX = np.zeros((NUM_AGENTS, NUM_AGENTS)) \n",
    "\n",
    "CLEARING_PAYMENT_VECTOR = {} # a dictionary whose key is the round starting from 1 and value is a list of payments\n",
    "\n",
    "######### /MODEL SETUP ######### \n",
    "\n",
    "######### HELPER FUNCTIONS ######### \n",
    "\n",
    "def bool_limited_liability():\n",
    "    pass\n",
    "\n",
    "def bool_proportional_repay():\n",
    "    pass\n",
    "\n",
    "def bool_debt_over_equity():\n",
    "    pass\n",
    "\n",
    "def total_cash_flow_for_node(i):\n",
    "    '''function to calculate total cash flow to node i in a given round which is liabilities received (endogenous) plus\n",
    "    operating cashflow (exogenous)\n",
    "    '''\n",
    "    pass\n",
    "\n",
    "def liabilities_out_for_node(i):\n",
    "    '''function to calculate liabilities out for node i in a given round\n",
    "    '''\n",
    "    pass\n",
    "\n",
    "def total_equity_for_node(total_cash_flow, liabilities_out):\n",
    "    '''function to calculate total equity of node i in a given round which is total cash flow (i.e. liabilities received \n",
    "    (endogenous) plus operating cashflow (exogenous)) minus liabilities out\n",
    "    '''\n",
    "    return total_cash_flow - liabilities_out\n",
    "\n",
    "def update_clearing_payment_vector(i):\n",
    "    '''function to update the clearing payment vector for a given round i'''\n",
    "\n",
    "######### /HELPER FUNCTIONS ######### \n",
    "\n"
   ]
  }
 ],
 "metadata": {
  "kernelspec": {
   "display_name": "Python 3",
   "language": "python",
   "name": "python3"
  },
  "language_info": {
   "codemirror_mode": {
    "name": "ipython",
    "version": 3
   },
   "file_extension": ".py",
   "mimetype": "text/x-python",
   "name": "python",
   "nbconvert_exporter": "python",
   "pygments_lexer": "ipython3",
   "version": "3.8.3"
  }
 },
 "nbformat": 4,
 "nbformat_minor": 4
}
