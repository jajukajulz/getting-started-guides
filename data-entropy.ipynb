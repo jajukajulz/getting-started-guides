{
 "cells": [
  {
   "cell_type": "markdown",
   "metadata": {},
   "source": [
    "# ENTROPY\n",
    "\n",
    "## Definition\n",
    "- Measure of uncertainty of a random variable X. The higher the entropy, the more the uncertainty i.e. more privacy and vice-versa.\n",
    "- Discrete Entropy for Discrete Random Variables and Differential Entropy for Continuous Random Variables.\n",
    "\n",
    "## Entropy of a Discrete Random Variable\n",
    "- Let X be a discrete random variable with alphabet X and probability mass function p(x) = Pr{X = x}, x \\mathcal{E} X.\n",
    "- The entropy H(X) of a discrete random variable X is defined by\n",
    "$$H(X) = -\\sum_{x\\mathcal{E}X}^n p(x) log p(x)$$\n",
    "\n",
    "- NB: The log is to the base 2 and entropy is expressed in bits.\n"
   ]
  },
  {
   "cell_type": "code",
   "execution_count": 2,
   "metadata": {},
   "outputs": [
    {
     "name": "stdout",
     "output_type": "stream",
     "text": [
      "Entropy of fair coin toss is 1.0\n"
     ]
    }
   ],
   "source": [
    "# For example, we will show that the entropy of a fair coin toss is 1 bit.\n",
    "'''\n",
    "Let X be the outcome of a coin toss - {H,T}\n",
    "P(X) = 0.5 for each outcome since it is a fair coin\n",
    "\n",
    "----|----|----|\n",
    "X   |  H | T  |\n",
    "----|----|----|\n",
    "P(x)| 0.5|0.5 |\n",
    "----|----|----|\n",
    "\n",
    "'''\n",
    "import math\n",
    "\n",
    "entropy_H_X = -( (0.5 * math.log(0.5, 2)) + (0.5 * math.log(0.5, 2)) )\n",
    "print('Entropy of fair coin toss is %s bit' % entropy_H_X)"
   ]
  },
  {
   "cell_type": "code",
   "execution_count": null,
   "metadata": {},
   "outputs": [],
   "source": []
  }
 ],
 "metadata": {
  "kernelspec": {
   "display_name": "Python 3",
   "language": "python",
   "name": "python3"
  },
  "language_info": {
   "codemirror_mode": {
    "name": "ipython",
    "version": 3
   },
   "file_extension": ".py",
   "mimetype": "text/x-python",
   "name": "python",
   "nbconvert_exporter": "python",
   "pygments_lexer": "ipython3",
   "version": "3.8.3"
  }
 },
 "nbformat": 4,
 "nbformat_minor": 4
}
