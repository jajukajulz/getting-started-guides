{
 "cells": [
  {
   "attachments": {
    "256px-Entropy-mutual-information-relative-entropy-relation-diagram.svg.png": {
     "image/png": "[encoded data removed]"
    }
   },
   "cell_type": "markdown",
   "metadata": {},
   "source": [
    "# 1 ENTROPY\n",
    "\n",
    "- Measure of uncertainty of a random variable $X$. The higher the entropy, the more the uncertainty i.e. more privacy and vice-versa.\n",
    "- Discrete Entropy applies to Discrete Random Variables whilst Differential Entropy applies to  Continuous Random Variables.\n",
    "\n",
    "\n",
    "![256px-Entropy-mutual-information-relative-entropy-relation-diagram.svg.png](attachment:256px-Entropy-mutual-information-relative-entropy-relation-diagram.svg.png)\n",
    "Venn diagram showing additive and subtractive relationships of various information measures associated with correlated variables {\\displaystyle X}X and {\\displaystyle Y}Y. The area contained by both circles is the joint entropy {\\displaystyle \\mathrm {H} (X,Y)}{\\displaystyle \\mathrm {H} (X,Y)}. The circle on the left (red and violet) is the individual entropy {\\displaystyle \\mathrm {H} (X)}{\\displaystyle \\mathrm {H} (X)}, with the red being the conditional entropy {\\displaystyle \\mathrm {H} (X\\mid Y)}{\\displaystyle \\mathrm {H} (X\\mid Y)}. The circle on the right (blue and violet) is {\\displaystyle \\mathrm {H} (Y)}{\\displaystyle \\mathrm {H} (Y)}, with the blue being {\\displaystyle \\mathrm {H} (Y\\mid X)}{\\displaystyle \\mathrm {H} (Y\\mid X)}. The violet is the mutual information {\\displaystyle \\operatorname {I} (X;Y)}\\operatorname {I} (X;Y).\n",
    "\n"
   ]
  },
  {
   "cell_type": "markdown",
   "metadata": {},
   "source": [
    "## 1.1 Discrete Entropy (Discrete Random Variables)\n",
    "- Let $X$ be a discrete random variable with alphabet $X$ and probability mass function $p(x) = Pr({X = x})$, $x \\epsilon X$.\n",
    "- The entropy $H(X)$ of a discrete random variable $X$ is defined by\n",
    "$$H(X) = -\\sum_{x \\epsilon X}^n p(x) log p(x)$$\n",
    "\n",
    "- NB: The log is to the base 2 and entropy is expressed in bits.\n",
    "- $H(X) \\geqslant 0$\n",
    "- Conditioning reduces entropy (see section on conditional entropy) i.e. $H(X|Y) \\leqslant H(X)$\n"
   ]
  },
  {
   "cell_type": "code",
   "execution_count": 1,
   "metadata": {},
   "outputs": [
    {
     "name": "stdout",
     "output_type": "stream",
     "text": [
      "Entropy of fair coin toss is 1.0 bit\n",
      "Manual check of Entropy of fair coin toss is 1.0 bit\n"
     ]
    }
   ],
   "source": [
    "'''\n",
    "Calculation of entropy from first principles\n",
    "\n",
    "For example, we will show that the entropy of a fair coin toss is 1 bit.\n",
    "\n",
    "Let X be the outcome of a coin toss - {H,T}\n",
    "P(X) = 0.5 for each outcome since it is a fair coin\n",
    "\n",
    "----|----|----|\n",
    "X   |  H | T  |\n",
    "----|----|----|\n",
    "P(x)| 0.5|0.5 |\n",
    "----|----|----|\n",
    "\n",
    "'''\n",
    "import math\n",
    "\n",
    "#calculating discrete entropy from first principles (alternative would be to use\n",
    "#scipy library\n",
    "LOG_BASE_2 = 2\n",
    "OUTCOMES = ['H', 'T']\n",
    "DISTRIBUTION = [0.5, 0.5]\n",
    "entropy_H_X = -( sum( (i * math.log(i, LOG_BASE_2)) for i in DISTRIBUTION ) )\n",
    "print('Entropy of fair coin toss is %s bit' % entropy_H_X)\n",
    "\n",
    "#manual calculation\n",
    "entropy_H_X_test = -( (0.5 * math.log(0.5, 2)) + (0.5 * math.log(0.5, 2)) )\n",
    "print('Manual check of Entropy of fair coin toss is %s bit' % entropy_H_X_test)"
   ]
  },
  {
   "cell_type": "code",
   "execution_count": 2,
   "metadata": {},
   "outputs": [
    {
     "name": "stdout",
     "output_type": "stream",
     "text": [
      "scipy libary calculation of Entropy for a fair coin toss is 1.0 bit\n",
      "scipy libary calculation of Entropy for a biased coin toss is 0.46899559358928117 bit\n",
      "scipy libary calculation of relative entropy of a biased coin toss is 0.5108256237659907 bit\n"
     ]
    }
   ],
   "source": [
    "'''Using scipy to calculate the entropy of a fair coin toss which is 1 bit.\n",
    "\n",
    "i.e. a Bernoulli trial with same p (0.5 Heads, 0.5 Tails). The outcome of a fair coin is the most uncertain unlike \n",
    "one in which the coin is not fair p (0.9 Heads, 0.1 Tails)\n",
    "https://docs.scipy.org/doc/scipy/reference/generated/scipy.stats.entropy.html#:~:text=Calculate%20the%20entropy%20of%20a,)%2C%20axis%3Daxis)%20.\n",
    "Calculate the entropy of a distribution for given probability values.\n",
    "\n",
    "If only probabilities pk are given, the entropy is calculated as S = -sum(pk * log(pk), axis=axis).\n",
    "\n",
    "If qk is not None, then compute the Kullback-Leibler divergence S = sum(pk * log(pk / qk), axis=axis)\n",
    "Parameters\n",
    "pk: sequence of prior probabilities\n",
    "Defines the (discrete) distribution. pk[i] is the (possibly unnormalized) probability of event i.\n",
    "\n",
    "qk: sequence of posterior probabilities, optional\n",
    "Sequence against which the relative entropy is computed. Should be in the same format as pk.\n",
    "\n",
    "basefloat, optional\n",
    "The logarithmic base to use, defaults to e (natural logarithm).\n",
    "\n",
    "axis: int, optional\n",
    "The axis along which the entropy is calculated. Default is 0.\n",
    "\n",
    "Returns\n",
    "Sfloat\n",
    "The calculated entropy.'''\n",
    "\n",
    "from scipy.stats import entropy\n",
    "\n",
    "#The outcome of a fair coin is very uncertain:\n",
    "scipy_discrete_fair_entropy = entropy([1/2, 1/2], base=2)\n",
    "print('scipy libary calculation of Entropy for a fair coin toss is %s bit' % scipy_discrete_fair_entropy)\n",
    "\n",
    "#The outcome of a biased coin is less uncertain:\n",
    "scipy_discrete_biased_entropy = entropy([9/10, 1/10], base=2)\n",
    "print('scipy libary calculation of Entropy for a biased coin toss is %s bit' % scipy_discrete_biased_entropy)\n",
    "\n",
    "#Relative entropy\n",
    "scipy_relative_biased_entropy = entropy([1/2, 1/2], qk=[9/10, 1/10])\n",
    "print('scipy libary calculation of relative entropy of a biased coin toss is %s bit' % scipy_relative_biased_entropy)\n"
   ]
  },
  {
   "cell_type": "markdown",
   "metadata": {},
   "source": [
    "### 1.1.1 Conditional Entropy and Mutual Information  (Discrete Random Variables)\n",
    "- Conditional entropy is the entropy of a random variable that is conditional on the knowledge of another.\n",
    "- Conditioning reduces entropy i.e. $H(X|Y) \\leqslant H(X)$\n",
    "- Reduction in uncertainity due to another random variable is called Mutual Information(which is denoted as $I$)\n",
    "- For 2 random variables, $X$ & $Y$:\n",
    "$$ I(X;Y) = H(X) - H(X|Y) = \\sum_{x, y}^n p(x,y) log \\frac{p(x,y)}{p(x)p(y)} $$\n",
    "\n",
    "-Mutual information $I(X;Y)$ is a measure of dependence between 2 random variables, is symmetric, always non-negative and is zero if $X$ & $Y$ are independent. In the case of privacy applications, we want mutual information to be as low or close to zero as possible.\n"
   ]
  },
  {
   "cell_type": "markdown",
   "metadata": {},
   "source": [
    "## 1.2 Differential Entropy (Continuous Random Variables)\n",
    "- Differential entropy differs from normal or absolute entropy in that the random variable need not be discrete.\n",
    "- Interpretation of $h(X)$ is the measure for amount of information we do not have about X\n",
    "- Let X be a continuous random variable with cumulative distribution function $F(x) = Pr(X \\leqslant x)$ and probability density function $f(x)$ i.e. the PDF for $X$ is the first derivative of $F(x)$ which can be written as $F^\\prime(x)$.\n",
    "- The differential entropy $h(X)$ of a continuous random variable $X$ with density $f(x)$ is defined as \n",
    "$$h(X) = -\\int_S f(x) log f(x) \\delta x$$\n",
    "where $S$ is the support set of the random variable (i.e. where $f(x) > 0)$\n",
    "\n",
    "- Example (Uniform distribution) - Consider a continuous random variable, $X$, distributed uniformly from $0$ to $a$, with $a$ > 0 and density  $f(x)$ is $1/a$ from 0 to $a$ and 0 elsewhere. Then its differential entropy of $X$ is\n",
    "$$h(X) = -\\int_0^a \\frac{1}{a} log \\frac{1}{a} \\delta x$$\n",
    "\n",
    "- Differential entropy can be negative\n"
   ]
  },
  {
   "attachments": {
    "mututal_information.png": {
     "image/png": "[encoded data removed]"
    }
   },
   "cell_type": "markdown",
   "metadata": {},
   "source": [
    "### 1.2.1 Joint Differential Entropy\n",
    "- The differential entropy of a set $X_{1}, X_{2},...X_{n}$ of continuous random variables with density $f(x_{1}, x_{2},...,x_{n})$ is\n",
    "$$h(X_{1}, X_{2},...X_{n}) = -\\int f(x^n) log f(x^n) \\delta x^n $$\n",
    "\n",
    "### 1.2.2 Conditional Differential Entropy\n",
    "- The differential entropy of a set $X, Y$ of continuous random variables with a joint density function $f(x, y)$ is\n",
    "$$h(X|Y) = -\\int f(x,y) log f(x|y) \\delta x \\delta y $$\n",
    "\n",
    "which can also be written as $h(X|Y) = h(X,Y) - h(Y)$ since generally bayes suggests that $f(x|y) = \\frac{f(x,y)}{f(y)}$\n",
    "\n",
    "### 1.2.3 Relative Entropy and Mutual Information\n",
    "- The relative entropy (Kullback-Leibler divergence) between two continuous densities $f$ and $g$ measures the difference between two probbility distributions and is given by\n",
    "$$ D(f||g) = \\int f log \\frac{f}{g}$$\n",
    "- The main interpretation of relative entropy is that the information we gained about $X$, if we originally thought $X ∼ g$ and now we learned X ∼ $p$ i.e. Expressed in the language of Bayesian inference, $D(f||g)$ is a measure of the information gained by revising one's beliefs from the prior probability distribution $g$ to the posterior probability distribution $p$.  In order to find a distribution $g$ that is closest to $f$, we can minimize KL divergence and compute an information projection.\n",
    "\n",
    "### 1.2.4 Mutual Information (Information Gain)\n",
    "Mutual information is a distance between two probability distributions. Correlation is a linear distance between two random variables. Mutual Information is also known as information gain.\n",
    "\n",
    "In probability theory and information theory, the mutual information (MI) of two random variables is a measure of the mutual dependence between the two variables. More specifically, it quantifies the \"amount of information\" (in units such as shannons (bits), nats or hartleys) obtained about one random variable through observing the other random variable. The concept of mutual information is intimately linked to that of entropy of a random variable, a fundamental notion in information theory that quantifies the expected \"amount of information\" held in a random variable.\n",
    "\n",
    "Intuitively, mutual information measures the information that {\\displaystyle X}X and {\\displaystyle Y}Y share: It measures how much knowing one of these variables reduces uncertainty about the other. For example, if {\\displaystyle X}X and {\\displaystyle Y}Y are independent, then knowing {\\displaystyle X}X does not give any information about {\\displaystyle Y}Y and vice versa, so their mutual information is zero. At the other extreme, if {\\displaystyle X}X is a deterministic function of {\\displaystyle Y}Y and {\\displaystyle Y}Y is a deterministic function of {\\displaystyle X}X then all information conveyed by {\\displaystyle X}X is shared with {\\displaystyle Y}Y: knowing {\\displaystyle X}X determines the value of {\\displaystyle Y}Y and vice versa. As a result, in this case the mutual information is the same as the uncertainty contained in {\\displaystyle Y}Y (or {\\displaystyle X}X) alone, namely the entropy of {\\displaystyle Y}Y (or {\\displaystyle X}X). Moreover, this mutual information is the same as the entropy of {\\displaystyle X}X and as the entropy of {\\displaystyle Y}Y. (A very special case of this is when {\\displaystyle X}X and {\\displaystyle Y}Y are the same random variable.)\n",
    "\n",
    "\n",
    "- Definition 1: The mutual information $I(X;Y)$ between two continuous random variables  $X$ & $Y$ is given by\n",
    "$$ I(X;Y) = h(X) - h(X|Y) = h(Y) - h(Y|X) $$\n",
    "\n",
    "\n",
    "-  Definition 2: The mutual information $I(X;Y)$ between two continuous random variables with joint density $f(x,y)$ is given by\n",
    "$$ I(X;Y) = \\int f(x,y) log \\frac{f(x,y)}{f(x)f(y)} \\delta x \\delta y = E\\left[log\\frac{f(X,Y)}{f(X)f(Y)}\\right]$$\n",
    "\n",
    "\n",
    "**Mutual information versus correlation**\n",
    "\n",
    "A measure used to represent how strongly two random variables are related known as correlation. Measures of correlation include covariance, correlation coefficient (a correlation coefficient is a quantitative assessment that measures both the direction and the strength of this tendency to vary together. Values can range from -1 to +1. -1 is an extremely strong negative relationship, 0 is no relationship, +1 is a very strong positivie relationship) etc. \n",
    "\n",
    "Mutual information is a distance between two probability distributions. Correlation is a linear distance between two random variables.\n",
    "\n",
    "In these two plots the correlation coefficient is zero - Pearson’s correlation coefficients measure only linear relationships so if your data contain a curvilinear relationship, the correlation coefficient will not detect it. For example, the correlation for the data in the scatterplot below is zero. However, there is a relationship between the two variables—it’s just not linear. But we can get high shared mutual information even when the correlation is zero - just because the coefficient is near zero, it doesn’t necessarily indicate that there is no relationship.\n",
    "\n",
    "In the first, I see that if I have a high or low value of X then I'm likely to get a high value of Y. But if the value of X is moderate then I have a low value of Y. The first plot holds information about the mutual information shared by X and Y. In the second plot, X tells me nothing about Y.\n",
    "\n",
    "![mututal_information.png](attachment:mututal_information.png)\n",
    "\n",
    "Mutual information and correlation are not antagonistic—they are complementary, describing different aspects of the association between two random variables. Loosely, Mutual Information \"is not concerned\" whether the association is linear or not, while Covariance may be zero and the variables may still be stochastically dependent. On the other hand, Covariance can be calculated directly from a data sample without the need to actually know the probability distributions involved (since it is an expression involving moments of the distribution), while Mutual Information requires knowledge of the probability distributions."
   ]
  },
  {
   "cell_type": "code",
   "execution_count": 17,
   "metadata": {},
   "outputs": [],
   "source": [
    "'''\n",
    "Estimating differential entropy\n",
    "Estimate entropy exercies, for each, for each, \n",
    "estimate the entropy based on samples of 4 different sizes i.e. N: 10,100,1000,10000.\n",
    "1. Uniform distribution on the interval [0, 1].\n",
    "2. Uniform distribution on the interval [0, 8].\n",
    "3. Uniform distribution on the interval [0, 0.5].\n",
    "4. Gaussian distribution with mean 0 and standard deviation 1.\n",
    "5. Gaussian distribution with mean 0 and standard deviation 100.\n",
    "6. Exponential distribution with mean 1.\n",
    "7. Exponential distribution with mean 100.\n",
    "\n",
    "Parametric statistics are based on assumptions about the distribution of population from \n",
    "which the sample was taken. Nonparametric statistics are not based on assumptions, that is, \n",
    "the data can be collected from a sample that does not follow a specific distribution.\n",
    "'''\n",
    "\n",
    "SAMPLE_SIZES = [10,100,1000,10000]\n",
    "\n",
    "#list to store monte carlo simulation entropies\n",
    "entropy_monte_carlo = []\n",
    "\n",
    "\n",
    "#create distribution\n",
    "xs = []\n",
    "\n",
    "#create standard deviation for distribution \n",
    "sigma = 1\n",
    "\n",
    "def samplingEntropyEst(xs, N, sigma):\n",
    "    '''\n",
    "    Since differential entropy is an expectation (of the negative log probability density), \n",
    "    we can estimate it by sampling from a distribution and forming an empirical average of the \n",
    "    negative log probability density. This empirical average will converge to the \n",
    "    true differential entropy by the law of large numbers.\n",
    "\n",
    "    Params:\n",
    "    xs is the sample points in the distribution\n",
    "    N is the number of times to sample in the Monte Carlo procedure\n",
    "    sigma is the standard deviation of the sample - need to find a way of generating an \n",
    "    optimal sigma\n",
    "    '''\n",
    "    pass\n",
    "\n",
    "for N in SAMPLE_SIZES:\n",
    "    entropy_monte_carlo.append(samplingEntropyEst(xs, N, sigma))\n",
    "\n",
    "def mspacingEntropyEst(xs):\n",
    "    '''\n",
    "    m−spacings estimate of entropy.\n",
    "    One way of choosing m  is to use the nearest integer value to the square root of N, the\n",
    "    number of sample points.\n",
    "\n",
    "    Params:\n",
    "    xs is the sample points in the distribution\n",
    "    '''\n",
    "    pass\n",
    "\n",
    "entropy2 = mspacingEntropyEst(xs)"
   ]
  },
  {
   "cell_type": "markdown",
   "metadata": {},
   "source": [
    "## Synthetic Data Generation\n",
    "Synthetic data is information that's artificially manufactured (created by an automated process which contains many of the statistical patterns of an original dataset) rather than generated by real-world events. Synthetic data is created algorithmically, and it is used as a stand-in for test datasets of production or operational data, to validate mathematical models and, increasingly, to train machine learning models. It is also sometimes used as a way to release data that has no personal information in it, even if the original did contain personally identifiable information. \n",
    "\n",
    "Links:\n",
    "\n",
    "https://stackoverflow.com/questions/38711541/how-to-compute-the-probability-of-a-value-given-a-list-of-samples-from-a-distrib\n",
    "\n",
    "https://cran.r-project.org/web/packages/sdglinkage/vignettes/Synthetic_Data_Generation_and_Evaluation.html\n",
    "\n",
    "https://towardsdatascience.com/synthetic-data-generation-a-must-have-skill-for-new-data-scientists-915896c0c1ae\n",
    "\n",
    "https://mostly.ai/2020/10/28/comparison-of-synthetic-data-types/\n",
    "\n",
    "https://pypi.org/project/sdgym/\n",
    "\n",
    "https://stackabuse.com/generating-synthetic-data-with-numpy-and-scikit-learn/\n",
    "\n",
    "https://www.kdnuggets.com/2019/09/scikit-learn-synthetic-dataset.html\n",
    "\n",
    "https://github.com/theodi/synthetic-data-tutorial\n",
    "\n",
    "https://towardsdatascience.com/synthetic-data-vault-sdv-a-python-library-for-dataset-modeling-b48c406e7398\n"
   ]
  },
  {
   "cell_type": "markdown",
   "metadata": {},
   "source": [
    "### Estimating Density for Continuous Data using Kernel Density Estimation \n",
    "\n",
    "One method for non-parametric estimation of a probability density function (PDF) for continuous random variables is the histogram. However, as you will see below, Kernel Density Estimation (KDE) can be better. \n",
    "\n",
    "Kernel density estimation (KDE) is a non-parametric method for estimating the probability density function of a given random variable. KDE works best when data distribution is not specified or the parameters (e.g. mean, mode. variance) are not specified. It is also referred to by its traditional name, the Parzen-Rosenblatt Window method, after its discoverers.\n",
    "\n",
    "Notes:\n",
    "- KDE assumes a sample of independent, identically distributed (i.i.d) observations \n",
    "- For a continuous distribution the probability of any exact point is supposed to be zero.\n",
    "\n"
   ]
  },
  {
   "cell_type": "code",
   "execution_count": 14,
   "metadata": {
    "pycharm": {
     "name": "#%%\n"
    }
   },
   "outputs": [
    {
     "data": {
      "image/png": "[encoded data removed]",
      "text/plain": [
       "<Figure size 432x288 with 1 Axes>"
      ]
     },
     "metadata": {
      "needs_background": "light"
     },
     "output_type": "display_data"
    }
   ],
   "source": [
    "'''\n",
    "Modelling data as a continuous distribution\n",
    "'''\n",
    "\n",
    "import numpy as np\n",
    "import matplotlib.pyplot as plt\n",
    "from scipy.stats import norm\n",
    "\n",
    "from sklearn.neighbors import KernelDensity\n",
    "\n",
    "# Generate random samples from a mixture of 2 Gaussians\n",
    "# with modes at 5 and 10\n",
    "# np.random.randn returns a sample (or samples) from the “standard normal” distribution.\n",
    "data = np.concatenate((5 + np.random.randn(10, 1),\n",
    "                       10 + np.random.randn(30, 1)))\n",
    "\n",
    "# Plot the true distribution\n",
    "x = np.linspace(0, 16, 1000)[:, np.newaxis]\n",
    "norm_vals =norm.pdf(x, 5, 1) * 0.25 + norm.pdf(x, 10, 1) * 0.75\n",
    "plt.plot(x, norm_vals, label='True distribution')\n",
    "\n",
    "# Plot the data using a normalized histogram\n",
    "plt.hist(data, 50, density=True, label='Data using a normalized histogram')\n",
    "\n",
    "# Do kernel density estimation. The parameters you can tune in case of KDE are the kernel and the bandwidth\n",
    "kd = KernelDensity(kernel='gaussian', bandwidth=0.75).fit(data)\n",
    "\n",
    "# Plot the estimated densty\n",
    "kd_vals = np.exp(kd.score_samples(x))\n",
    "plt.plot(x, kd_vals, label='Estimated Density (KDE)')\n",
    "\n",
    "# Add labels\n",
    "plt.xlabel(\"x\")\n",
    "plt.ylabel(\"Density\")\n",
    "plt.title(\"Estimating Density using Histogram vs KDE\")\n",
    "\n",
    "# Position legend\n",
    "# position legend outside the plot using bbox_to_anchor (i.e. bounding box)\n",
    "legend = plt.legend(bbox_to_anchor=(1.05, 1.0), loc='upper left')\n",
    "# legend.get_frame().set_facecolor('C0') # Put a nicer background color on the legend.\n",
    "\n",
    "# Show the plots\n",
    "plt.show()"
   ]
  },
  {
   "cell_type": "code",
   "execution_count": null,
   "metadata": {},
   "outputs": [],
   "source": [
    "'''\n",
    "Alternative modelling of a continuous distribution. Instead of using a parametric approach where you assume that your \n",
    "data has some distribution and then fit that distribution to your data, you should take a non-parametric approach. \n",
    "One straightforward way is to use a kernel density estimate. You can simply think of this as a way of smoothing a \n",
    "histogram to give you a continuous probability density function. \n",
    "'''\n",
    "\n",
    "import scipy.stats\n",
    "kde = scipy.stats.gaussian_kde(samples)\n",
    "kde.pdf(2)\n",
    "\n",
    "\n",
    "# To get the probability of an observation in some interval:\n",
    "kde.integrate_box_1d(1,2)\n",
    "#0.13855869478828692"
   ]
  },
  {
   "cell_type": "markdown",
   "metadata": {
    "pycharm": {
     "name": "#%% md\n"
    }
   },
   "source": [
    "### Estimating Density for Discrete Data using Kernel Density Estimation \n",
    "\n",
    "Kernel Density Estimation is a non-parametric technique which works best when data distribution is not specified or the parameters (e.g. mean, mode. variance) are not specified. For discrete data, one could also  simply count the occurrences and divide by the total number of events to get estimates for the probabilities, anywhere where there are have zero observations, our estimate for the probability is zero. "
   ]
  },
  {
   "cell_type": "code",
   "execution_count": 15,
   "metadata": {},
   "outputs": [
    {
     "data": {
      "text/plain": [
       "'\\nModelling data as a discrete distribution given a discrete sample space and all positive integers. \\nWe simply count the occurrences and divide by the total number of events to get estimates for the probabilities. \\nAnywhere we have zero observations, our estimate for the probability is zero.\\n'"
      ]
     },
     "execution_count": 15,
     "metadata": {},
     "output_type": "execute_result"
    }
   ],
   "source": [
    "'''\n",
    "Modelling data as a discrete distribution given a discrete sample space and all positive integers. \n",
    "We simply count the occurrences and divide by the total number of events to get estimates for the probabilities. \n",
    "Anywhere we have zero observations, our estimate for the probability is zero.\n",
    "'''"
   ]
  },
  {
   "cell_type": "code",
   "execution_count": null,
   "metadata": {},
   "outputs": [],
   "source": []
  }
 ],
 "metadata": {
  "kernelspec": {
   "display_name": "Python 3",
   "language": "python",
   "name": "python3"
  },
  "language_info": {
   "codemirror_mode": {
    "name": "ipython",
    "version": 3
   },
   "file_extension": ".py",
   "mimetype": "text/x-python",
   "name": "python",
   "nbconvert_exporter": "python",
   "pygments_lexer": "ipython3",
   "version": "3.8.3"
  }
 },
 "nbformat": 4,
 "nbformat_minor": 4
}
