{
 "cells": [
  {
   "cell_type": "markdown",
   "metadata": {},
   "source": [
    "# Sampling for Probability\n",
    "\n",
    "## What are Monte Carlo Methods\n",
    "A desired quantity can be approximated by using random sampling, referred to as Monte Carlo methods. Multiple samples are collected and used to approximate the desired quantity.\n",
    "\n",
    "Given the law of large numbers from statistics (theorem that suggests that the average result from repeating an experiment multiple times will better approximate the true or expected underlying result - as the size of a sample is increased, the more accurate of an estimate the sample mean will be of the population mean), the more random trials that are performed, the more accurate the approximated quantity will become.\n",
    "\n",
    "Side note - The name Monte Carlo is derived from the gambling casino in Monaco.\n",
    "\n",
    "### Examples of Monte Carlo in Action\n",
    "- Simulating flipping a coin by sampling from a binomial distribution with values {H,T}\n",
    "- Simulating the roll of a dice by smapling from a uniform distribution of integers {1,2,3,4,5,6}\n",
    "\n"
   ]
  },
  {
   "cell_type": "code",
   "execution_count": 2,
   "metadata": {},
   "outputs": [
    {
     "data": {
      "image/png": "[encoded data removed]",
      "text/plain": [
       "<Figure size 432x288 with 4 Axes>"
      ]
     },
     "metadata": {
      "needs_background": "light"
     },
     "output_type": "display_data"
    }
   ],
   "source": [
    "#Code example of Monte Carlo Sampling and the Law of Large Numbers\n",
    "'''Suppose we have a probability distribution function for a random variable that follows a Normal/Gaussian\n",
    "distribution with a mean of 85 and standard deviation of 2. We will generate monte carlo samples of different\n",
    "sizes to illustrate the law of large numbers.'''\n",
    "\n",
    "from numpy.random import normal\n",
    "from matplotlib import pyplot\n",
    "\n",
    "# distribution parameters - mean and std dev\n",
    "mu = 85\n",
    "sigma = 2\n",
    "\n",
    "# generate monte carlo samples of differing size\n",
    "sizes = [10, 100, 1000, 10000]\n",
    "for i in range(len(sizes)):\n",
    "    # generate sample\n",
    "    sample = normal(mu, sigma, sizes[i])\n",
    "    \n",
    "    # plot histogram of sample\n",
    "    pyplot.subplot(2, 2, i+1)\n",
    "    pyplot.hist(sample, bins=20)\n",
    "    pyplot.title('%d samples' % sizes[i])\n",
    "    pyplot.xticks([])\n",
    "    \n",
    "# show the plot\n",
    "pyplot.show()"
   ]
  },
  {
   "cell_type": "markdown",
   "metadata": {},
   "source": [
    "## Central Limit Theorem\n",
    "The theorem states that as the size of the sample increases, the distribution of the mean across multiple samples will approximate a Gaussian distribution. We can imagine performing a trial and getting a result or an observation. We can repeat the trial again and get a new independent observation. Collected together, multiple observations represents a sample of observations."
   ]
  },
  {
   "cell_type": "code",
   "execution_count": 3,
   "metadata": {},
   "outputs": [
    {
     "data": {
      "image/png": "[encoded data removed]",
      "text/plain": [
       "<Figure size 432x288 with 1 Axes>"
      ]
     },
     "metadata": {
      "needs_background": "light"
     },
     "output_type": "display_data"
    }
   ],
   "source": [
    "#Code example of Central Limit Theorem\n",
    "'''Suppose we have a die whose sides are numbered 1 to 6. Each number has an equal likelihood of 1/6 to show up when \n",
    "the die is rolled.'''\n",
    "\n",
    "from numpy.random import seed\n",
    "from numpy.random import randint\n",
    "from numpy import mean\n",
    "from matplotlib import pyplot\n",
    "\n",
    "# seed the random number generator so that repetition of the experiment returns the same result\n",
    "seed(10)\n",
    "\n",
    "# generate 1000 samples of 50 die rolls with values between 1 and 6\n",
    "samples = []\n",
    "means = []\n",
    "for i in range (1000):\n",
    "    rolls = randint(1, 7, 50)\n",
    "    samples.append(rolls)\n",
    "\n",
    "# calculate means\n",
    "for i in range (1000):\n",
    "    means.append(mean(samples[i-1])) \n",
    "\n",
    "# plot the distribution of sample means\n",
    "pyplot.hist(means)\n",
    "pyplot.show()\n"
   ]
  },
  {
   "cell_type": "code",
   "execution_count": null,
   "metadata": {},
   "outputs": [],
   "source": []
  }
 ],
 "metadata": {
  "kernelspec": {
   "display_name": "Python 3",
   "language": "python",
   "name": "python3"
  },
  "language_info": {
   "codemirror_mode": {
    "name": "ipython",
    "version": 3
   },
   "file_extension": ".py",
   "mimetype": "text/x-python",
   "name": "python",
   "nbconvert_exporter": "python",
   "pygments_lexer": "ipython3",
   "version": "3.8.3"
  }
 },
 "nbformat": 4,
 "nbformat_minor": 4
}
